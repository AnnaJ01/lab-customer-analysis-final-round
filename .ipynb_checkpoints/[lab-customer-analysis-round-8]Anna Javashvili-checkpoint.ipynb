{
 "cells": [
  {
   "cell_type": "code",
   "execution_count": null,
   "id": "2d3d2dc7",
   "metadata": {},
   "outputs": [],
   "source": [
    "import pandas as pd\n",
    "import numpy as np \n",
    "\n",
    "\n",
    "\n",
    "# this is not to show warnings\n",
    "\n",
    "import warnings\n",
    "warnings.filterwarnings('ignore')\n",
    "\n",
    "\n",
    "# this it the most common viz library in python\n",
    "\n",
    "import matplotlib.pyplot as plt\n",
    "\n",
    "\n",
    "\n",
    "# this one is the above on steroids\n",
    "\n",
    "\n",
    "import seaborn as sns\n",
    "\n",
    "\n",
    "df = pd.read_csv(r'C:\\Users\\User\\Desktop\\iRonhack\\Classes at Iron\\Week 3\\Day 3\\Lab week 3 day 2 - round 8 final\\lab-customer-analysis-final-round\\files_for_lab\\marketing_customer_analysis.csv')\n",
    "\n"
   ]
  },
  {
   "cell_type": "markdown",
   "id": "f2238180",
   "metadata": {},
   "source": [
    "# Show the dataframe shape."
   ]
  },
  {
   "cell_type": "code",
   "execution_count": null,
   "id": "11ff79a0",
   "metadata": {},
   "outputs": [],
   "source": [
    "df.shape"
   ]
  },
  {
   "cell_type": "markdown",
   "id": "9ebff9b1",
   "metadata": {},
   "source": [
    "# Standardize header names."
   ]
  },
  {
   "cell_type": "code",
   "execution_count": null,
   "id": "5f3e63cf",
   "metadata": {},
   "outputs": [],
   "source": [
    "df"
   ]
  },
  {
   "cell_type": "code",
   "execution_count": null,
   "id": "5111f911",
   "metadata": {},
   "outputs": [],
   "source": [
    "cols = []\n",
    "\n",
    "for i in range(len(df.columns)):\n",
    "    cols.append(df.columns[i].lower().replace(' ', '_'))\n",
    "cols\n",
    "\n",
    "df.columns = cols\n",
    "df.columns"
   ]
  },
  {
   "cell_type": "markdown",
   "id": "e8255c20",
   "metadata": {},
   "source": [
    "# Which columns are numerical?"
   ]
  },
  {
   "cell_type": "code",
   "execution_count": null,
   "id": "abe0ceba",
   "metadata": {},
   "outputs": [],
   "source": [
    "df.dtypes\n",
    "\n",
    "#numerical - floats and int"
   ]
  },
  {
   "cell_type": "code",
   "execution_count": null,
   "id": "bcf0b843",
   "metadata": {},
   "outputs": [],
   "source": [
    "df.dtypes\n",
    "\n",
    "#categorical objects"
   ]
  },
  {
   "cell_type": "markdown",
   "id": "8b01a9b1",
   "metadata": {},
   "source": [
    "# Check and deal with NaN values.\n"
   ]
  },
  {
   "cell_type": "code",
   "execution_count": null,
   "id": "6fb93c76",
   "metadata": {
    "scrolled": true
   },
   "outputs": [],
   "source": [
    "df.isna()"
   ]
  },
  {
   "cell_type": "code",
   "execution_count": null,
   "id": "0c022a04",
   "metadata": {},
   "outputs": [],
   "source": [
    "df.isna().sum()"
   ]
  },
  {
   "cell_type": "code",
   "execution_count": null,
   "id": "587394ca",
   "metadata": {},
   "outputs": [],
   "source": [
    "#percentage of missed data\n",
    "\n",
    "df.isna().sum() / len(df) * 100"
   ]
  },
  {
   "cell_type": "code",
   "execution_count": null,
   "id": "a0527e35",
   "metadata": {},
   "outputs": [],
   "source": [
    "df.describe()"
   ]
  },
  {
   "cell_type": "code",
   "execution_count": null,
   "id": "b1c1f70c",
   "metadata": {},
   "outputs": [],
   "source": [
    "# to see them\n",
    "\n",
    "null_data = df.isna().any(axis = 1)\n",
    "df[null_data]"
   ]
  },
  {
   "cell_type": "code",
   "execution_count": null,
   "id": "9330668c",
   "metadata": {
    "scrolled": true
   },
   "outputs": [],
   "source": [
    "# to drop them\n",
    "\n",
    "\n",
    "df.dropna()"
   ]
  },
  {
   "cell_type": "code",
   "execution_count": null,
   "id": "a712ecac",
   "metadata": {},
   "outputs": [],
   "source": [
    "df_without_nan = df.dropna()"
   ]
  },
  {
   "cell_type": "code",
   "execution_count": null,
   "id": "39a4f1f3",
   "metadata": {},
   "outputs": [],
   "source": [
    "df_without_nan"
   ]
  },
  {
   "cell_type": "markdown",
   "id": "d404b98a",
   "metadata": {},
   "source": [
    "# Datetime"
   ]
  },
  {
   "cell_type": "code",
   "execution_count": null,
   "id": "75f7ab21",
   "metadata": {},
   "outputs": [],
   "source": [
    "'''\n",
    "\n",
    "Datetime format - Extract the months from the dataset and store in a separate column. \n",
    "Then filter the data to show only the information for the first quarter , ie. January, February and March. \n",
    "Hint: If data from March does not exist, consider only January and February.\n",
    "\n",
    "'''"
   ]
  },
  {
   "cell_type": "code",
   "execution_count": null,
   "id": "b6f97664",
   "metadata": {},
   "outputs": [],
   "source": [
    "\n",
    "\n",
    "df.dtypes"
   ]
  },
  {
   "cell_type": "code",
   "execution_count": null,
   "id": "02232c0d",
   "metadata": {},
   "outputs": [],
   "source": [
    "df['effective_to_date'] = pd.to_datetime(df['effective_to_date'])"
   ]
  },
  {
   "cell_type": "code",
   "execution_count": null,
   "id": "fa1562b0",
   "metadata": {},
   "outputs": [],
   "source": [
    "df.dtypes"
   ]
  },
  {
   "cell_type": "code",
   "execution_count": null,
   "id": "e7f5ca32",
   "metadata": {},
   "outputs": [],
   "source": [
    "df['effective_to_date'][0].year"
   ]
  },
  {
   "cell_type": "code",
   "execution_count": null,
   "id": "f9148d87",
   "metadata": {},
   "outputs": [],
   "source": [
    "df['month'] = df['effective_to_date'].dt.month\n"
   ]
  },
  {
   "cell_type": "code",
   "execution_count": null,
   "id": "050acd85",
   "metadata": {},
   "outputs": [],
   "source": [
    "df"
   ]
  },
  {
   "cell_type": "code",
   "execution_count": null,
   "id": "87e0fb8a",
   "metadata": {},
   "outputs": [],
   "source": [
    "#filter by months\n",
    "\n",
    "\n",
    "condition = df['month'] <= 3\n",
    "df[condition]"
   ]
  },
  {
   "cell_type": "code",
   "execution_count": null,
   "id": "77e0b4bd",
   "metadata": {},
   "outputs": [],
   "source": [
    "df.month.unique()"
   ]
  },
  {
   "cell_type": "code",
   "execution_count": null,
   "id": "97e0e509",
   "metadata": {},
   "outputs": [],
   "source": [
    "condition = df['month'] == 1\n",
    "df_january = df[condition]\n",
    "df_january"
   ]
  },
  {
   "cell_type": "code",
   "execution_count": null,
   "id": "1e732910",
   "metadata": {},
   "outputs": [],
   "source": [
    "condition = df['month'] == 2\n",
    "df_february = df[condition]\n",
    "df_february"
   ]
  },
  {
   "cell_type": "markdown",
   "id": "47f5f63a",
   "metadata": {},
   "source": [
    "# BONUS: Put all the previously mentioned data transformations into a function."
   ]
  },
  {
   "cell_type": "code",
   "execution_count": null,
   "id": "82f27cce",
   "metadata": {},
   "outputs": [],
   "source": [
    "#putting into the function\n",
    "\n",
    "def filtering(dataframe, month):\n",
    "    condition = dataframe['month'] == month\n",
    "    dataframe = dataframe[condition]\n",
    "    return dataframe\n",
    "    \n",
    "new_df = filtering(df, 2)"
   ]
  },
  {
   "cell_type": "code",
   "execution_count": null,
   "id": "e4263fbb",
   "metadata": {},
   "outputs": [],
   "source": [
    "new_df"
   ]
  },
  {
   "cell_type": "markdown",
   "id": "3116a23c",
   "metadata": {},
   "source": [
    "# Lab | Customer Analysis Round 3\n"
   ]
  },
  {
   "cell_type": "markdown",
   "id": "1910649c",
   "metadata": {},
   "source": [
    "Show DataFrame info."
   ]
  },
  {
   "cell_type": "code",
   "execution_count": null,
   "id": "fed7b063",
   "metadata": {},
   "outputs": [],
   "source": [
    "df.info()"
   ]
  },
  {
   "cell_type": "code",
   "execution_count": null,
   "id": "e7a1286e",
   "metadata": {},
   "outputs": [],
   "source": [
    "df.shape"
   ]
  },
  {
   "cell_type": "markdown",
   "id": "0afda7cc",
   "metadata": {},
   "source": [
    "Describe DataFrame."
   ]
  },
  {
   "cell_type": "code",
   "execution_count": null,
   "id": "73d5d8af",
   "metadata": {},
   "outputs": [],
   "source": [
    "df.describe()"
   ]
  },
  {
   "cell_type": "markdown",
   "id": "cd88bf89",
   "metadata": {},
   "source": [
    "Show a plot of the total number of responses."
   ]
  },
  {
   "cell_type": "code",
   "execution_count": null,
   "id": "28f4006e",
   "metadata": {},
   "outputs": [],
   "source": [
    "plt.hist(df['response'])\n",
    "\n",
    "\n",
    "plt.xlabel('Response')\n",
    "plt.ylabel('Frequency')\n",
    "plt.title('Number of Responses')\n",
    "plt.show()\n",
    "\n",
    "\n",
    "# to show how many people responded\n"
   ]
  },
  {
   "cell_type": "code",
   "execution_count": null,
   "id": "88e39883",
   "metadata": {},
   "outputs": [],
   "source": [
    "df['response'].value_counts().plot(kind='bar')"
   ]
  },
  {
   "cell_type": "markdown",
   "id": "fae6bb4b",
   "metadata": {},
   "source": [
    "Show a plot of the response rate by the sales channel."
   ]
  },
  {
   "cell_type": "code",
   "execution_count": null,
   "id": "1e338675",
   "metadata": {},
   "outputs": [],
   "source": [
    "df['sales_channel'].unique()"
   ]
  },
  {
   "cell_type": "code",
   "execution_count": null,
   "id": "595f1a36",
   "metadata": {},
   "outputs": [],
   "source": [
    "#sns.barplot(x = df['response'], y = df['sales_channel'], data = df, estimator = 'mean')\n",
    "#plt.show()"
   ]
  },
  {
   "cell_type": "code",
   "execution_count": null,
   "id": "11ba7b9b",
   "metadata": {},
   "outputs": [],
   "source": [
    "df['response'].value_counts()"
   ]
  },
  {
   "cell_type": "code",
   "execution_count": null,
   "id": "5803975a",
   "metadata": {},
   "outputs": [],
   "source": [
    "df['sales_channel'].value_counts()"
   ]
  },
  {
   "cell_type": "code",
   "execution_count": null,
   "id": "53e05337",
   "metadata": {},
   "outputs": [],
   "source": [
    "sns.countplot(x='response', data=df)\n",
    "plt.show()"
   ]
  },
  {
   "cell_type": "code",
   "execution_count": null,
   "id": "8ef64aa2",
   "metadata": {},
   "outputs": [],
   "source": [
    "sns.countplot(x='sales_channel',  data=df)\n",
    "plt.show()"
   ]
  },
  {
   "cell_type": "code",
   "execution_count": null,
   "id": "c28d7c51",
   "metadata": {},
   "outputs": [],
   "source": [
    "sns.countplot(df, x=\"sales_channel\", hue=\"response\")\n",
    "plt.show()"
   ]
  },
  {
   "cell_type": "code",
   "execution_count": null,
   "id": "d3c1ee55",
   "metadata": {},
   "outputs": [],
   "source": [
    "sns.boxplot(data=df, x=\"response\", y=\"total_claim_amount\")\n",
    "plt.show()"
   ]
  },
  {
   "cell_type": "code",
   "execution_count": null,
   "id": "cba0aa6c",
   "metadata": {
    "scrolled": true
   },
   "outputs": [],
   "source": [
    "sns.boxplot(data=df, x=\"response\", y=\"income\")\n",
    "plt.show()"
   ]
  },
  {
   "cell_type": "markdown",
   "id": "090275ba",
   "metadata": {},
   "source": [
    "# Lab | Customer Analysis Round 4"
   ]
  },
  {
   "cell_type": "markdown",
   "id": "b5e8a4a3",
   "metadata": {},
   "source": [
    "Check the data types of the columns. Get the numeric data into dataframe called numerical and categorical columns in a dataframe called categoricals. (You can use np.number and np.object to select the numerical data types and categorical data types respectively)"
   ]
  },
  {
   "cell_type": "code",
   "execution_count": null,
   "id": "ac7f267b",
   "metadata": {},
   "outputs": [],
   "source": [
    "df.shape"
   ]
  },
  {
   "cell_type": "code",
   "execution_count": null,
   "id": "8e3047b2",
   "metadata": {},
   "outputs": [],
   "source": [
    "df.dtypes"
   ]
  },
  {
   "cell_type": "code",
   "execution_count": null,
   "id": "f938d2f4",
   "metadata": {},
   "outputs": [],
   "source": [
    "numerical = df.select_dtypes(include=[np.number])\n",
    "categorical"
   ]
  },
  {
   "cell_type": "code",
   "execution_count": null,
   "id": "a15ebec7",
   "metadata": {},
   "outputs": [],
   "source": [
    "categorical = df.select_dtypes(include=[object])\n",
    "categorical"
   ]
  },
  {
   "cell_type": "code",
   "execution_count": null,
   "id": "1457843c",
   "metadata": {},
   "outputs": [],
   "source": [
    "df.info() # just checking if I got the right amount of columns in categorical and numerical"
   ]
  },
  {
   "cell_type": "markdown",
   "id": "34a27f2f",
   "metadata": {},
   "source": [
    "Now we will try to check the normality of the numerical variables visually\n",
    "Use seaborn library to construct distribution plots for the numerical variables\n",
    "Use Matplotlib to construct histograms\n",
    "Do the distributions for different numerical variables look like a normal distribution"
   ]
  },
  {
   "cell_type": "code",
   "execution_count": null,
   "id": "23ef64da",
   "metadata": {},
   "outputs": [],
   "source": [
    "numerical.columns"
   ]
  },
  {
   "cell_type": "code",
   "execution_count": null,
   "id": "f1860922",
   "metadata": {},
   "outputs": [],
   "source": [
    "sns.displot(numerical, x=\"customer_lifetime_value\")\n",
    "plt.show()"
   ]
  },
  {
   "cell_type": "code",
   "execution_count": null,
   "id": "7e6881f1",
   "metadata": {},
   "outputs": [],
   "source": [
    "sns.displot(numerical, x=\"customer_lifetime_value\")\n",
    "plt.show()"
   ]
  },
  {
   "cell_type": "code",
   "execution_count": null,
   "id": "7b7ed8ac",
   "metadata": {},
   "outputs": [],
   "source": [
    "sns.displot(numerical['income'])\n",
    "plt.show()"
   ]
  },
  {
   "cell_type": "code",
   "execution_count": null,
   "id": "c1d38d2a",
   "metadata": {},
   "outputs": [],
   "source": [
    "sns.displot(numerical['monthly_premium_auto'])\n",
    "plt.show()"
   ]
  },
  {
   "cell_type": "code",
   "execution_count": null,
   "id": "9a86e7d8",
   "metadata": {},
   "outputs": [],
   "source": [
    "sns.displot(numerical['months_since_last_claim'])\n",
    "plt.show()"
   ]
  },
  {
   "cell_type": "code",
   "execution_count": null,
   "id": "cd259ecb",
   "metadata": {},
   "outputs": [],
   "source": [
    "sns.displot(numerical['months_since_policy_inception'])\n",
    "plt.show()"
   ]
  },
  {
   "cell_type": "code",
   "execution_count": null,
   "id": "97895740",
   "metadata": {},
   "outputs": [],
   "source": [
    "sns.displot(numerical['number_of_open_complaints'])\n",
    "plt.show()"
   ]
  },
  {
   "cell_type": "code",
   "execution_count": null,
   "id": "cb87a19c",
   "metadata": {},
   "outputs": [],
   "source": [
    "sns.displot(numerical['number_of_policies'])\n",
    "plt.show()"
   ]
  },
  {
   "cell_type": "code",
   "execution_count": null,
   "id": "873986e0",
   "metadata": {},
   "outputs": [],
   "source": [
    "sns.displot(numerical['total_claim_amount'])\n",
    "plt.show()"
   ]
  },
  {
   "cell_type": "code",
   "execution_count": null,
   "id": "4c53e526",
   "metadata": {},
   "outputs": [],
   "source": [
    "sns.displot(numerical['month'])\n",
    "plt.show()"
   ]
  },
  {
   "cell_type": "markdown",
   "id": "2c170f7b",
   "metadata": {},
   "source": [
    "Use Matplotlib to construct histograms"
   ]
  },
  {
   "cell_type": "code",
   "execution_count": null,
   "id": "9fdc28da",
   "metadata": {},
   "outputs": [],
   "source": [
    "numerical.columns"
   ]
  },
  {
   "cell_type": "code",
   "execution_count": null,
   "id": "e29c7c29",
   "metadata": {},
   "outputs": [],
   "source": [
    "plt.hist(df['customer_lifetime_value'])\n",
    "plt.show()"
   ]
  },
  {
   "cell_type": "code",
   "execution_count": null,
   "id": "1f514daf",
   "metadata": {},
   "outputs": [],
   "source": [
    "plt.hist(df['income'])\n",
    "plt.show()"
   ]
  },
  {
   "cell_type": "code",
   "execution_count": null,
   "id": "9fe02da9",
   "metadata": {},
   "outputs": [],
   "source": [
    "plt.hist(df['monthly_premium_auto'])\n",
    "plt.show()"
   ]
  },
  {
   "cell_type": "code",
   "execution_count": null,
   "id": "e4b41d92",
   "metadata": {},
   "outputs": [],
   "source": [
    "plt.hist(df['months_since_last_claim'])\n",
    "plt.show()"
   ]
  },
  {
   "cell_type": "code",
   "execution_count": null,
   "id": "44445b5e",
   "metadata": {},
   "outputs": [],
   "source": [
    "plt.hist(df['months_since_policy_inception'])\n",
    "plt.show()"
   ]
  },
  {
   "cell_type": "code",
   "execution_count": null,
   "id": "4449b1c5",
   "metadata": {},
   "outputs": [],
   "source": [
    "plt.hist(df['number_of_open_complaints'])\n",
    "plt.show()"
   ]
  },
  {
   "cell_type": "code",
   "execution_count": null,
   "id": "72fc79b4",
   "metadata": {},
   "outputs": [],
   "source": [
    "plt.hist(df['number_of_policies'])\n",
    "plt.show()"
   ]
  },
  {
   "cell_type": "code",
   "execution_count": null,
   "id": "b19b82fc",
   "metadata": {},
   "outputs": [],
   "source": [
    "plt.hist(df['total_claim_amount'])\n",
    "plt.show()"
   ]
  },
  {
   "cell_type": "code",
   "execution_count": null,
   "id": "5d85d963",
   "metadata": {},
   "outputs": [],
   "source": [
    "plt.hist(df['month'])\n",
    "plt.show()"
   ]
  },
  {
   "cell_type": "markdown",
   "id": "4f4a2ac1",
   "metadata": {},
   "source": [
    "Do the distributions for different numerical variables look like a normal distribution\n"
   ]
  },
  {
   "cell_type": "markdown",
   "id": "82e18488",
   "metadata": {},
   "source": [
    "it doesn't look like a normal distribution maybe a bit this one:"
   ]
  },
  {
   "cell_type": "code",
   "execution_count": null,
   "id": "be2328b6",
   "metadata": {},
   "outputs": [],
   "source": [
    "plt.hist(df['months_since_policy_inception'])\n",
    "plt.show()"
   ]
  },
  {
   "cell_type": "markdown",
   "id": "86f3503d",
   "metadata": {},
   "source": [
    "For the numerical variables, check the multicollinearity between the features. Please note that we will use the column total_claim_amount later as the target variable.\n"
   ]
  },
  {
   "cell_type": "code",
   "execution_count": null,
   "id": "1d2ae704",
   "metadata": {},
   "outputs": [],
   "source": [
    "correlations_matrix = numerical.corr()\n",
    "correlations_matrix"
   ]
  },
  {
   "cell_type": "code",
   "execution_count": null,
   "id": "5980df82",
   "metadata": {
    "scrolled": true
   },
   "outputs": [],
   "source": [
    "sns.heatmap(correlations_matrix, annot=True)\n",
    "plt.show()\n",
    "mask = np.zeros_like(correlations_matrix)\n",
    "mask[np.triu_indices_from(mask)] = True # don't include if you think it will confuse the students right now\n",
    "fig, ax = plt.subplots(figsize=(10, 8))\n",
    "ax = sns.heatmap(correlations_matrix, mask=mask, annot=True)\n",
    "plt.show()"
   ]
  },
  {
   "cell_type": "markdown",
   "id": "843c9015",
   "metadata": {},
   "source": [
    "Drop one of the two features that show a high correlation between them (greater than 0.9). Write code for both the correlation matrix and for seaborn heatmap. If there is no pair of features that have a high correlation, then do not drop any features\n"
   ]
  },
  {
   "cell_type": "markdown",
   "id": "31575593",
   "metadata": {},
   "source": [
    "There is no two features that show a high correlation between them (greater than 0.9)."
   ]
  },
  {
   "cell_type": "markdown",
   "id": "2db58a36",
   "metadata": {},
   "source": [
    "# Lab | Customer Analysis Round 5"
   ]
  },
  {
   "cell_type": "markdown",
   "id": "c65853e0",
   "metadata": {},
   "source": [
    "X-y split."
   ]
  },
  {
   "cell_type": "code",
   "execution_count": null,
   "id": "56dbfc99",
   "metadata": {},
   "outputs": [],
   "source": [
    "\n",
    "from sklearn import linear_model\n",
    "from sklearn.metrics import mean_squared_error, r2_score, mean_absolute_error\n",
    "\n",
    "\n",
    "\n",
    "# These Libs are for stats\n",
    "\n",
    "import statsmodels.api as sm\n",
    "from statsmodels.formula.api import ols\n",
    "\n"
   ]
  },
  {
   "cell_type": "code",
   "execution_count": null,
   "id": "4afb94ba",
   "metadata": {},
   "outputs": [],
   "source": [
    "# let's start by doing some analytics\n",
    "\n",
    "\n",
    "Y =  df['total_claim_amount']  # dependent variable\n",
    "X =  df['income']  # independent variable\n",
    "\n",
    "\n",
    "# The linear model has the Formula Y =  ........\n",
    "\n",
    "\n",
    "# intercecpt ro davamatot\n",
    "\n",
    "X = sm.add_constant(X)\n",
    "\n",
    "\n",
    "model = sm.OLS(Y,X).fit()\n",
    "\n",
    "model.summary()\n"
   ]
  },
  {
   "cell_type": "code",
   "execution_count": null,
   "id": "4d8f2f09",
   "metadata": {
    "scrolled": true
   },
   "outputs": [],
   "source": [
    "df.dtypes"
   ]
  },
  {
   "cell_type": "code",
   "execution_count": null,
   "id": "a7a63e6c",
   "metadata": {
    "scrolled": true
   },
   "outputs": [],
   "source": [
    "# big regression\n",
    "\n",
    "\n",
    "Y = df['income']\n",
    "X = numerical.drop(['income'], axis = 1)\n",
    "\n",
    "X = sm.add_constant(X)\n",
    "\n",
    "\n",
    "model = sm.OLS(Y,X).fit()\n",
    "\n",
    "model.summary()"
   ]
  },
  {
   "cell_type": "markdown",
   "id": "13e56cd7",
   "metadata": {},
   "source": [
    "# Lab | Customer Analysis Round 6"
   ]
  },
  {
   "cell_type": "markdown",
   "id": "37f77958",
   "metadata": {},
   "source": [
    "Model Validation\n",
    "Description:\n",
    "R2.\n",
    "MSE.\n",
    "RMSE.\n",
    "MAE."
   ]
  },
  {
   "cell_type": "code",
   "execution_count": null,
   "id": "73312d27",
   "metadata": {},
   "outputs": [],
   "source": [
    "from sklearn import linear_model\n",
    "from sklearn.metrics import mean_squared_error, r2_score, mean_absolute_error\n",
    "\n",
    "Y = df['income']\n",
    "X = numerical.drop(['income'], axis = 1)\n",
    "\n",
    "lm = linear_model.LinearRegression()\n",
    "model = lm.fit(X,Y)\n",
    "lm.score(X,Y) # This is the R^2\n",
    "\n",
    "predictions = lm.predict(X)\n",
    "\n",
    "print(\"R2 value is = \",round(r2_score(Y, predictions),2))\n",
    "print(\"The intercept of the model is = \",lm.intercept_)\n",
    "print(\"The coefficients of the model are = \",lm.coef_)\n",
    "\n",
    "mse = mean_squared_error(Y, predictions)\n",
    "mae = mean_absolute_error(Y, predictions)\n",
    "print(\"The mse of the model is = \",mse)\n",
    "print(\"The root mse of the model is = \",np.sqrt(mse))\n",
    "print(\"The mean absolute error of the model is = \",mae)"
   ]
  },
  {
   "cell_type": "markdown",
   "id": "c117c6da",
   "metadata": {},
   "source": [
    "Processing Data\n",
    "(Further processing...)\n",
    "\n",
    "X-y split. (done)\n",
    "Normalize (numerical). (done)\n",
    "One Hot/Label Encoding (categorical)."
   ]
  },
  {
   "cell_type": "code",
   "execution_count": null,
   "id": "7a34be6c",
   "metadata": {},
   "outputs": [],
   "source": [
    "'''\n",
    "One hot enconding\n",
    "'''\n",
    "\n",
    "# get dummies pandas\n",
    "pd.get_dummies(df['response'], drop_first=True)"
   ]
  },
  {
   "cell_type": "code",
   "execution_count": null,
   "id": "992691f9",
   "metadata": {},
   "outputs": [],
   "source": [
    "df.head()"
   ]
  },
  {
   "cell_type": "code",
   "execution_count": null,
   "id": "847e1117",
   "metadata": {},
   "outputs": [],
   "source": [
    "# problem with this one hot encoding eiteher I get every column or only one."
   ]
  },
  {
   "cell_type": "markdown",
   "id": "25d93f83",
   "metadata": {},
   "source": [
    "# Lab | Customer Analysis Round 7"
   ]
  },
  {
   "cell_type": "markdown",
   "id": "6860d553",
   "metadata": {},
   "source": [
    "# Lab | Customer Analysis Round 8"
   ]
  }
 ],
 "metadata": {
  "kernelspec": {
   "display_name": "Python 3 (ipykernel)",
   "language": "python",
   "name": "python3"
  },
  "language_info": {
   "codemirror_mode": {
    "name": "ipython",
    "version": 3
   },
   "file_extension": ".py",
   "mimetype": "text/x-python",
   "name": "python",
   "nbconvert_exporter": "python",
   "pygments_lexer": "ipython3",
   "version": "3.11.5"
  }
 },
 "nbformat": 4,
 "nbformat_minor": 5
}
